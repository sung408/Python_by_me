{
 "cells": [
  {
   "cell_type": "code",
   "execution_count": 1,
   "id": "4aefb45c",
   "metadata": {},
   "outputs": [
    {
     "name": "stdout",
     "output_type": "stream",
     "text": [
      "C:\\temp\\C16_019_600rpm_APDT_51.562_LDT_52.478_BOTT_52.579.csv\n",
      "C:\\temp\\C16_020_600rpm_APDT_51.257_LDT_52.295_BOTT_52.213.csv\n",
      "C:\\temp\\C16_021_600rpm_APDT_51.013_LDT_53.271_BOTT_52.841.csv\n",
      "C:\\temp\\C16_022_600rpm_APDT_55.652_LDT_57.117_BOTT_61.370.csv\n",
      "C:\\temp\\C16_023_600rpm_APDT_51.379_LDT_53.394_BOTT_53.535.csv\n",
      "C:\\temp\\C16_024_600rpm_APDT_51.135_LDT_52.112_BOTT_45.930.csv\n",
      "C:\\temp\\C16_025_600rpm_APDT_53.333_LDT_53.455_BOTT_52.512.csv\n",
      "C:\\temp\\C16_026_600rpm_APDT_51.807_LDT_52.234_BOTT_46.248.csv\n",
      "C:\\temp\\C16_027_600rpm_APDT_51.074_LDT_52.112_BOTT_52.296.csv\n",
      "C:\\temp\\C16_028_600rpm_APDT_51.440_LDT_52.356_BOTT_52.382.csv\n",
      "C:\\temp\\C16_029_600rpm_APDT_50.159_LDT_51.746_BOTT_45.791.csv\n",
      "C:\\temp\\C16_030_600rpm_APDT_51.074_LDT_51.074_BOTT_45.278.csv\n",
      "C:\\temp\\C16_031_600rpm_APDT_51.868_LDT_52.417_BOTT_52.427.csv\n",
      "C:\\temp\\C16_032_600rpm_APDT_51.257_LDT_51.868_BOTT_46.520.csv\n",
      "C:\\temp\\C16_033_600rpm_APDT_51.074_LDT_52.722_BOTT_46.419.csv\n",
      "C:\\temp\\C16_034_600rpm_APDT_51.074_LDT_53.088_BOTT_52.673.csv\n",
      "C:\\temp\\C16_035_600rpm_APDT_51.624_LDT_52.234_BOTT_46.461.csv\n",
      "C:\\temp\\C16_036_600rpm_APDT_51.135_LDT_52.417_BOTT_52.160.csv\n",
      "C:\\temp\\C16_037_600rpm_APDT_51.440_LDT_52.173_BOTT_46.528.csv\n",
      "C:\\temp\\C16_038_600rpm_APDT_51.746_LDT_52.661_BOTT_52.211.csv\n"
     ]
    }
   ],
   "source": [
    "import os\n",
    "import glob\n",
    "import openpyxl\n",
    "import pandas as pd\n",
    "fname=[]\n",
    "\n",
    "folder_path = 'C:\\\\temp\\\\'\n",
    "for filename in glob.glob(os.path.join(folder_path, '*.csv')):\n",
    "    print(filename)\n",
    "    fname.append(filename)"
   ]
  },
  {
   "cell_type": "code",
   "execution_count": 3,
   "id": "17952daa",
   "metadata": {},
   "outputs": [],
   "source": [
    "comment='C16 Lot3 incoming NFA'\n",
    "\n",
    "#test name & starting row\n",
    "header={'80AZM180':3, '05AZM270':22, 'Referee225':41,'Retro90':60}\n",
    "col_num=43\n",
    "col_list=[i for i in range (0,col_num)]\n",
    "num_test=len(header)\n",
    "name=list(header.keys())\n",
    "appended_data=[ [] for _ in range(num_test) ]\n",
    "\n",
    "\n",
    "for filename in glob.glob(os.path.join(folder_path, '*.csv')):\n",
    "    data_index=0\n",
    "    \n",
    "    for test, row in header.items():  \n",
    "        nfa=pd.read_csv(filename, header=row, usecols=col_list, nrows=16)  #header start from 0 & excel row start 1\n",
    "        nfa[\"Filename\"]=filename              #new column\n",
    "        nfa[\"comment\"]=comment                #new column    \n",
    "        appended_data[data_index].append(nfa)\n",
    "        data_index+=1\n",
    "           \n",
    "for data_index in range(num_test):\n",
    "    appended_data[data_index]= pd.concat(appended_data[data_index])   #list of dataframes to concatenated dafaframe\n",
    "    appended_data[data_index].to_csv(folder_path+ name[data_index] +'.csv')\n",
    "\n"
   ]
  },
  {
   "cell_type": "code",
   "execution_count": null,
   "id": "d97a0886",
   "metadata": {},
   "outputs": [],
   "source": []
  },
  {
   "cell_type": "code",
   "execution_count": 18,
   "id": "b2bad09d",
   "metadata": {},
   "outputs": [],
   "source": [
    "nfa=pd.read_csv(fname[0], header=3, usecols=[0,1,2], nrows=16)  #header start from 0 & excel row start 1\n",
    "nfa.to_csv(folder_path+ 'test1.csv')"
   ]
  },
  {
   "cell_type": "code",
   "execution_count": null,
   "id": "078bd4b0",
   "metadata": {},
   "outputs": [],
   "source": []
  }
 ],
 "metadata": {
  "kernelspec": {
   "display_name": "Python 3 (ipykernel)",
   "language": "python",
   "name": "python3"
  },
  "language_info": {
   "codemirror_mode": {
    "name": "ipython",
    "version": 3
   },
   "file_extension": ".py",
   "mimetype": "text/x-python",
   "name": "python",
   "nbconvert_exporter": "python",
   "pygments_lexer": "ipython3",
   "version": "3.9.12"
  }
 },
 "nbformat": 4,
 "nbformat_minor": 5
}
