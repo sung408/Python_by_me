{
 "cells": [
  {
   "cell_type": "code",
   "execution_count": 7,
   "id": "7171aa73",
   "metadata": {},
   "outputs": [],
   "source": [
    "import os, fnmatch\n",
    "import pandas as pd\n",
    "\n",
    "def find(pattern, path):\n",
    "    result = []\n",
    "    for root, dirs, files in os.walk(path):\n",
    "        \n",
    "        for name in files:\n",
    "            if fnmatch.fnmatch(name, pattern):\n",
    "                result.append(os.path.join(root, name))\n",
    "    return result                                           #only one file per path"
   ]
  },
  {
   "cell_type": "code",
   "execution_count": 8,
   "id": "5bf644ee",
   "metadata": {},
   "outputs": [
    {
     "name": "stdout",
     "output_type": "stream",
     "text": [
      "['C:\\\\temp2\\\\C16\\\\1. 25 Temp', 'C:\\\\temp2\\\\C16\\\\2. -20 Temp', 'C:\\\\temp2\\\\C16\\\\3. 60 Temp', 'C:\\\\temp2\\\\C16\\\\4. 25 Temp']\n"
     ]
    }
   ],
   "source": [
    "rootdir = 'C:\\\\temp2\\\\C16'\n",
    "dir80=[]\n",
    "pattern=\"\"\n",
    "\n",
    "for rootdir, dirs, files in os.walk(rootdir):\n",
    " \n",
    "    for subdir in dirs:\n",
    "        f_path=os.path.join(rootdir, subdir)\n",
    "      \n",
    "#         if (\".\" in f_path):\n",
    "        dir80.append(f_path)\n",
    "\n",
    "print (dir80)"
   ]
  },
  {
   "cell_type": "code",
   "execution_count": 9,
   "id": "892306a3",
   "metadata": {},
   "outputs": [
    {
     "name": "stdout",
     "output_type": "stream",
     "text": [
      "4\n"
     ]
    }
   ],
   "source": [
    "print (len(dir80))\n"
   ]
  },
  {
   "cell_type": "code",
   "execution_count": 10,
   "id": "6a9081ef",
   "metadata": {},
   "outputs": [
    {
     "name": "stdout",
     "output_type": "stream",
     "text": [
      "[['C:\\\\temp2\\\\C16\\\\1. 25 Temp\\\\16CH_LEG3_10_25_12V.csv', 'C:\\\\temp2\\\\C16\\\\1. 25 Temp\\\\16CH_LEG3_1_25_12V.csv', 'C:\\\\temp2\\\\C16\\\\1. 25 Temp\\\\16CH_LEG3_2_25_12V.csv', 'C:\\\\temp2\\\\C16\\\\1. 25 Temp\\\\16CH_LEG3_3_25_12V.csv', 'C:\\\\temp2\\\\C16\\\\1. 25 Temp\\\\16CH_LEG3_4_25_12V.csv', 'C:\\\\temp2\\\\C16\\\\1. 25 Temp\\\\16CH_LEG3_5_25_12V.csv', 'C:\\\\temp2\\\\C16\\\\1. 25 Temp\\\\16CH_LEG3_6_25_12V.csv', 'C:\\\\temp2\\\\C16\\\\1. 25 Temp\\\\16CH_LEG3_7_25_12V.csv', 'C:\\\\temp2\\\\C16\\\\1. 25 Temp\\\\16CH_LEG3_8_25_12V.csv', 'C:\\\\temp2\\\\C16\\\\1. 25 Temp\\\\16CH_LEG3_9_25_12V.csv'], ['C:\\\\temp2\\\\C16\\\\2. -20 Temp\\\\16CH_LEG3_10_-20_18V.csv', 'C:\\\\temp2\\\\C16\\\\2. -20 Temp\\\\16CH_LEG3_10_-20_9V.csv', 'C:\\\\temp2\\\\C16\\\\2. -20 Temp\\\\16CH_LEG3_1_-20_18V.csv', 'C:\\\\temp2\\\\C16\\\\2. -20 Temp\\\\16CH_LEG3_1_-20_9V.csv', 'C:\\\\temp2\\\\C16\\\\2. -20 Temp\\\\16CH_LEG3_2_-20_18V.csv', 'C:\\\\temp2\\\\C16\\\\2. -20 Temp\\\\16CH_LEG3_2_-20_9V.csv', 'C:\\\\temp2\\\\C16\\\\2. -20 Temp\\\\16CH_LEG3_3_-20_18V.csv', 'C:\\\\temp2\\\\C16\\\\2. -20 Temp\\\\16CH_LEG3_3_-20_9V.csv', 'C:\\\\temp2\\\\C16\\\\2. -20 Temp\\\\16CH_LEG3_4_-20_18V.csv', 'C:\\\\temp2\\\\C16\\\\2. -20 Temp\\\\16CH_LEG3_4_-20_9V.csv', 'C:\\\\temp2\\\\C16\\\\2. -20 Temp\\\\16CH_LEG3_5_-20_18V.csv', 'C:\\\\temp2\\\\C16\\\\2. -20 Temp\\\\16CH_LEG3_5_-20_9V.csv', 'C:\\\\temp2\\\\C16\\\\2. -20 Temp\\\\16CH_LEG3_6_-20_18V.csv', 'C:\\\\temp2\\\\C16\\\\2. -20 Temp\\\\16CH_LEG3_6_-20_9V.csv', 'C:\\\\temp2\\\\C16\\\\2. -20 Temp\\\\16CH_LEG3_7_-20_18V.csv', 'C:\\\\temp2\\\\C16\\\\2. -20 Temp\\\\16CH_LEG3_7_-20_9V.csv', 'C:\\\\temp2\\\\C16\\\\2. -20 Temp\\\\16CH_LEG3_8_-20_18V.csv', 'C:\\\\temp2\\\\C16\\\\2. -20 Temp\\\\16CH_LEG3_8_-20_9V.csv', 'C:\\\\temp2\\\\C16\\\\2. -20 Temp\\\\16CH_LEG3_9_-20_18V.csv'], ['C:\\\\temp2\\\\C16\\\\3. 60 Temp\\\\16CH_LEG3_10_60_18V.csv', 'C:\\\\temp2\\\\C16\\\\3. 60 Temp\\\\16CH_LEG3_10_60_9V.csv', 'C:\\\\temp2\\\\C16\\\\3. 60 Temp\\\\16CH_LEG3_1_60_18V.csv', 'C:\\\\temp2\\\\C16\\\\3. 60 Temp\\\\16CH_LEG3_1_60_9V.csv', 'C:\\\\temp2\\\\C16\\\\3. 60 Temp\\\\16CH_LEG3_2_60_18V.csv', 'C:\\\\temp2\\\\C16\\\\3. 60 Temp\\\\16CH_LEG3_2_60_9V.csv', 'C:\\\\temp2\\\\C16\\\\3. 60 Temp\\\\16CH_LEG3_3_60_18V.csv', 'C:\\\\temp2\\\\C16\\\\3. 60 Temp\\\\16CH_LEG3_3_60_9V.csv', 'C:\\\\temp2\\\\C16\\\\3. 60 Temp\\\\16CH_LEG3_4_60_18V.csv', 'C:\\\\temp2\\\\C16\\\\3. 60 Temp\\\\16CH_LEG3_4_60_9V.csv', 'C:\\\\temp2\\\\C16\\\\3. 60 Temp\\\\16CH_LEG3_5_60_18V.csv', 'C:\\\\temp2\\\\C16\\\\3. 60 Temp\\\\16CH_LEG3_5_60_9V.csv', 'C:\\\\temp2\\\\C16\\\\3. 60 Temp\\\\16CH_LEG3_6_60_18V.csv', 'C:\\\\temp2\\\\C16\\\\3. 60 Temp\\\\16CH_LEG3_6_60_9V.csv', 'C:\\\\temp2\\\\C16\\\\3. 60 Temp\\\\16CH_LEG3_7_60_18V.csv', 'C:\\\\temp2\\\\C16\\\\3. 60 Temp\\\\16CH_LEG3_7_60_9V.csv', 'C:\\\\temp2\\\\C16\\\\3. 60 Temp\\\\16CH_LEG3_8_60_18V.csv', 'C:\\\\temp2\\\\C16\\\\3. 60 Temp\\\\16CH_LEG3_8_60_9V.csv', 'C:\\\\temp2\\\\C16\\\\3. 60 Temp\\\\16CH_LEG3_9_60_18V.csv', 'C:\\\\temp2\\\\C16\\\\3. 60 Temp\\\\16CH_LEG3_9_60_9V.csv'], ['C:\\\\temp2\\\\C16\\\\4. 25 Temp\\\\16CH_LEG3_10_25_12V.csv', 'C:\\\\temp2\\\\C16\\\\4. 25 Temp\\\\16CH_LEG3_1_25_12V.csv', 'C:\\\\temp2\\\\C16\\\\4. 25 Temp\\\\16CH_LEG3_2_25_12V.csv', 'C:\\\\temp2\\\\C16\\\\4. 25 Temp\\\\16CH_LEG3_3_25_12V.csv', 'C:\\\\temp2\\\\C16\\\\4. 25 Temp\\\\16CH_LEG3_4_25_12V.csv', 'C:\\\\temp2\\\\C16\\\\4. 25 Temp\\\\16CH_LEG3_5_25_12V.csv', 'C:\\\\temp2\\\\C16\\\\4. 25 Temp\\\\16CH_LEG3_6_25_12V.csv', 'C:\\\\temp2\\\\C16\\\\4. 25 Temp\\\\16CH_LEG3_7_25_12V.csv', 'C:\\\\temp2\\\\C16\\\\4. 25 Temp\\\\16CH_LEG3_8_25_12V.csv', 'C:\\\\temp2\\\\C16\\\\4. 25 Temp\\\\16CH_LEG3_9_25_12V.csv']]\n"
     ]
    }
   ],
   "source": [
    " nist80_sum_files=[]\n",
    "for path in dir80:\n",
    "    nist80_sum_files.append(find('*V.csv', path))\n",
    "print (nist80_sum_files)\n"
   ]
  },
  {
   "cell_type": "code",
   "execution_count": 11,
   "id": "f3e897bb",
   "metadata": {
    "scrolled": true
   },
   "outputs": [
    {
     "name": "stdout",
     "output_type": "stream",
     "text": [
      "C:\\temp2\\C16\\1. 25 Temp\\16CH_LEG3_10_25_12V.csv\n",
      "C:\\temp2\\C16\\1. 25 Temp\\16CH_LEG3_1_25_12V.csv\n",
      "C:\\temp2\\C16\\1. 25 Temp\\16CH_LEG3_2_25_12V.csv\n",
      "C:\\temp2\\C16\\1. 25 Temp\\16CH_LEG3_3_25_12V.csv\n",
      "C:\\temp2\\C16\\1. 25 Temp\\16CH_LEG3_4_25_12V.csv\n",
      "C:\\temp2\\C16\\1. 25 Temp\\16CH_LEG3_5_25_12V.csv\n",
      "C:\\temp2\\C16\\1. 25 Temp\\16CH_LEG3_6_25_12V.csv\n",
      "C:\\temp2\\C16\\1. 25 Temp\\16CH_LEG3_7_25_12V.csv\n",
      "C:\\temp2\\C16\\1. 25 Temp\\16CH_LEG3_8_25_12V.csv\n",
      "C:\\temp2\\C16\\1. 25 Temp\\16CH_LEG3_9_25_12V.csv\n",
      "C:\\temp2\\C16\\2. -20 Temp\\16CH_LEG3_10_-20_18V.csv\n",
      "C:\\temp2\\C16\\2. -20 Temp\\16CH_LEG3_10_-20_9V.csv\n",
      "C:\\temp2\\C16\\2. -20 Temp\\16CH_LEG3_1_-20_18V.csv\n",
      "C:\\temp2\\C16\\2. -20 Temp\\16CH_LEG3_1_-20_9V.csv\n",
      "C:\\temp2\\C16\\2. -20 Temp\\16CH_LEG3_2_-20_18V.csv\n",
      "C:\\temp2\\C16\\2. -20 Temp\\16CH_LEG3_2_-20_9V.csv\n",
      "C:\\temp2\\C16\\2. -20 Temp\\16CH_LEG3_3_-20_18V.csv\n",
      "C:\\temp2\\C16\\2. -20 Temp\\16CH_LEG3_3_-20_9V.csv\n",
      "C:\\temp2\\C16\\2. -20 Temp\\16CH_LEG3_4_-20_18V.csv\n",
      "C:\\temp2\\C16\\2. -20 Temp\\16CH_LEG3_4_-20_9V.csv\n",
      "C:\\temp2\\C16\\2. -20 Temp\\16CH_LEG3_5_-20_18V.csv\n",
      "C:\\temp2\\C16\\2. -20 Temp\\16CH_LEG3_5_-20_9V.csv\n",
      "C:\\temp2\\C16\\2. -20 Temp\\16CH_LEG3_6_-20_18V.csv\n",
      "C:\\temp2\\C16\\2. -20 Temp\\16CH_LEG3_6_-20_9V.csv\n",
      "C:\\temp2\\C16\\2. -20 Temp\\16CH_LEG3_7_-20_18V.csv\n",
      "C:\\temp2\\C16\\2. -20 Temp\\16CH_LEG3_7_-20_9V.csv\n",
      "C:\\temp2\\C16\\2. -20 Temp\\16CH_LEG3_8_-20_18V.csv\n",
      "C:\\temp2\\C16\\2. -20 Temp\\16CH_LEG3_8_-20_9V.csv\n",
      "C:\\temp2\\C16\\2. -20 Temp\\16CH_LEG3_9_-20_18V.csv\n",
      "C:\\temp2\\C16\\3. 60 Temp\\16CH_LEG3_10_60_18V.csv\n",
      "C:\\temp2\\C16\\3. 60 Temp\\16CH_LEG3_10_60_9V.csv\n",
      "C:\\temp2\\C16\\3. 60 Temp\\16CH_LEG3_1_60_18V.csv\n",
      "C:\\temp2\\C16\\3. 60 Temp\\16CH_LEG3_1_60_9V.csv\n",
      "C:\\temp2\\C16\\3. 60 Temp\\16CH_LEG3_2_60_18V.csv\n",
      "C:\\temp2\\C16\\3. 60 Temp\\16CH_LEG3_2_60_9V.csv\n",
      "C:\\temp2\\C16\\3. 60 Temp\\16CH_LEG3_3_60_18V.csv\n",
      "C:\\temp2\\C16\\3. 60 Temp\\16CH_LEG3_3_60_9V.csv\n",
      "C:\\temp2\\C16\\3. 60 Temp\\16CH_LEG3_4_60_18V.csv\n",
      "C:\\temp2\\C16\\3. 60 Temp\\16CH_LEG3_4_60_9V.csv\n",
      "C:\\temp2\\C16\\3. 60 Temp\\16CH_LEG3_5_60_18V.csv\n",
      "C:\\temp2\\C16\\3. 60 Temp\\16CH_LEG3_5_60_9V.csv\n",
      "C:\\temp2\\C16\\3. 60 Temp\\16CH_LEG3_6_60_18V.csv\n",
      "C:\\temp2\\C16\\3. 60 Temp\\16CH_LEG3_6_60_9V.csv\n",
      "C:\\temp2\\C16\\3. 60 Temp\\16CH_LEG3_7_60_18V.csv\n",
      "C:\\temp2\\C16\\3. 60 Temp\\16CH_LEG3_7_60_9V.csv\n",
      "C:\\temp2\\C16\\3. 60 Temp\\16CH_LEG3_8_60_18V.csv\n",
      "C:\\temp2\\C16\\3. 60 Temp\\16CH_LEG3_8_60_9V.csv\n",
      "C:\\temp2\\C16\\3. 60 Temp\\16CH_LEG3_9_60_18V.csv\n",
      "C:\\temp2\\C16\\3. 60 Temp\\16CH_LEG3_9_60_9V.csv\n",
      "C:\\temp2\\C16\\4. 25 Temp\\16CH_LEG3_10_25_12V.csv\n",
      "C:\\temp2\\C16\\4. 25 Temp\\16CH_LEG3_1_25_12V.csv\n",
      "C:\\temp2\\C16\\4. 25 Temp\\16CH_LEG3_2_25_12V.csv\n",
      "C:\\temp2\\C16\\4. 25 Temp\\16CH_LEG3_3_25_12V.csv\n",
      "C:\\temp2\\C16\\4. 25 Temp\\16CH_LEG3_4_25_12V.csv\n",
      "C:\\temp2\\C16\\4. 25 Temp\\16CH_LEG3_5_25_12V.csv\n",
      "C:\\temp2\\C16\\4. 25 Temp\\16CH_LEG3_6_25_12V.csv\n",
      "C:\\temp2\\C16\\4. 25 Temp\\16CH_LEG3_7_25_12V.csv\n",
      "C:\\temp2\\C16\\4. 25 Temp\\16CH_LEG3_8_25_12V.csv\n",
      "C:\\temp2\\C16\\4. 25 Temp\\16CH_LEG3_9_25_12V.csv\n"
     ]
    }
   ],
   "source": [
    "\n",
    "\n",
    "seq=''     #Input ************************  \n",
    "type='C16'\n",
    "comment = 'before'   #Input ************************ \n",
    "Nrow=16 #16ch\n",
    "\n",
    "#test name & starting row\n",
    "header={'80AZM180':3}\n",
    "col_num=43\n",
    "col_list=[i for i in range (0,col_num)]\n",
    "num_test=len(header)\n",
    "name=list(header.keys())\n",
    "appended_data=[]\n",
    "\n",
    "\n",
    "for file_dir in nist80_sum_files:\n",
    "    for filename in file_dir:\n",
    "    \n",
    "        for test, row in header.items():  \n",
    "            print (filename)\n",
    "\n",
    "            nfa=pd.read_csv(filename, header=row, usecols=col_list, nrows=Nrow)  #header start from 0 & excel row start 1\n",
    "            nfa[\"Filename\"]=filename              #new column\n",
    "            nfa[\"comment\"]=comment                #new column    \n",
    "            nfa[\"sequence\"]=seq                #new column    \n",
    "            nfa[\"type\"]=type                #new column  \n",
    "            nfa[\"sensor\"]=\"\"                #new column  \n",
    "            nfa[\"comment\"]=comment                #new column  \n",
    "            nfa[\"Temp_Volt\"]=comment                #new column  \n",
    "            nfa[\"Temp\"]=comment                #new column  \n",
    "            nfa[\"Volt\"]=comment                #new column  \n",
    "            \n",
    "            \n",
    "            appended_data.append(nfa)\n",
    " \n"
   ]
  },
  {
   "cell_type": "code",
   "execution_count": 12,
   "id": "013b5809",
   "metadata": {},
   "outputs": [],
   "source": [
    "folder_path = 'C:\\Temp2'\n",
    "\n",
    "all_data= pd.concat(appended_data)   #list of dataframes to concatenated dafaframe\n",
    "all_data.to_csv(folder_path+ '\\\\C16 5point_result.csv')\n"
   ]
  },
  {
   "cell_type": "code",
   "execution_count": null,
   "id": "28a9cd6f",
   "metadata": {},
   "outputs": [],
   "source": []
  },
  {
   "cell_type": "code",
   "execution_count": null,
   "id": "22934b06",
   "metadata": {},
   "outputs": [],
   "source": []
  }
 ],
 "metadata": {
  "kernelspec": {
   "display_name": "Python 3 (ipykernel)",
   "language": "python",
   "name": "python3"
  },
  "language_info": {
   "codemirror_mode": {
    "name": "ipython",
    "version": 3
   },
   "file_extension": ".py",
   "mimetype": "text/x-python",
   "name": "python",
   "nbconvert_exporter": "python",
   "pygments_lexer": "ipython3",
   "version": "3.9.12"
  }
 },
 "nbformat": 4,
 "nbformat_minor": 5
}
