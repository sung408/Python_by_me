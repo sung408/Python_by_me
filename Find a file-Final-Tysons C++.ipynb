{
 "cells": [
  {
   "cell_type": "code",
   "execution_count": 26,
   "id": "7171aa73",
   "metadata": {},
   "outputs": [],
   "source": [
    "import os, fnmatch\n",
    "import pandas as pd\n",
    "\n",
    "def find(pattern, path):\n",
    "    result = []\n",
    "    for root, dirs, files in os.walk(path):\n",
    "        for name in files:\n",
    "            if fnmatch.fnmatch(name, pattern):\n",
    "                result.append(os.path.join(root, name))\n",
    "    return result[0]                                            #only one file per path"
   ]
  },
  {
   "cell_type": "code",
   "execution_count": 27,
   "id": "5bf644ee",
   "metadata": {},
   "outputs": [
    {
     "name": "stdout",
     "output_type": "stream",
     "text": [
      "['C:\\\\temp4\\\\01\\\\retro', 'C:\\\\temp4\\\\02\\\\retro', 'C:\\\\temp4\\\\03\\\\retro', 'C:\\\\temp4\\\\04\\\\retro', 'C:\\\\temp4\\\\06\\\\retro', 'C:\\\\temp4\\\\07\\\\retro', 'C:\\\\temp4\\\\08\\\\retro', 'C:\\\\temp4\\\\09\\\\retro', 'C:\\\\temp4\\\\10\\\\retro', 'C:\\\\temp4\\\\five\\\\retro']\n"
     ]
    }
   ],
   "source": [
    "rootdir = 'C:\\\\temp4'\n",
    "dir80=[]\n",
    "pattern=\"\"\n",
    "\n",
    "for rootdir, dirs, files in os.walk(rootdir):\n",
    " \n",
    "    for subdir in dirs:\n",
    "        f_path=os.path.join(rootdir, subdir)\n",
    "      \n",
    "#         if (\"05\" in f_path) and (\"8005\" not in f_path) :\n",
    "#         if (\"80\" in f_path) and (\"8005\" not in f_path) :\n",
    "#         if (\"8005\" in f_path) :\n",
    "        if (\"retro\" in f_path) :\n",
    "\n",
    "            dir80.append(f_path)\n",
    "\n",
    "print (dir80)"
   ]
  },
  {
   "cell_type": "code",
   "execution_count": 28,
   "id": "892306a3",
   "metadata": {},
   "outputs": [
    {
     "name": "stdout",
     "output_type": "stream",
     "text": [
      "10\n"
     ]
    }
   ],
   "source": [
    "print (len(dir80))\n"
   ]
  },
  {
   "cell_type": "code",
   "execution_count": 29,
   "id": "6a9081ef",
   "metadata": {},
   "outputs": [
    {
     "name": "stdout",
     "output_type": "stream",
     "text": [
      "['C:\\\\temp4\\\\01\\\\retro\\\\VLP-16 P25544 2022-12-05 14-38-38 Factory Summary.csv', 'C:\\\\temp4\\\\02\\\\retro\\\\VLP-16 P25544 2022-12-05 15-45-52 Factory Summary.csv', 'C:\\\\temp4\\\\03\\\\retro\\\\VLP-16 P25544 2022-12-05 16-01-33 Factory Summary.csv', 'C:\\\\temp4\\\\04\\\\retro\\\\VLP-16 P25544 2022-12-05 16-35-49 Factory Summary.csv', 'C:\\\\temp4\\\\06\\\\retro\\\\VLP-16 P25544 2022-12-05 17-20-25 Factory Summary.csv', 'C:\\\\temp4\\\\07\\\\retro\\\\VLP-16 P25544 2022-12-05 17-36-02 Factory Summary.csv', 'C:\\\\temp4\\\\08\\\\retro\\\\VLP-16 P25544 2022-12-05 17-51-00 Factory Summary.csv', 'C:\\\\temp4\\\\09\\\\retro\\\\VLP-16 P25544 2022-12-05 18-04-58 Factory Summary.csv', 'C:\\\\temp4\\\\10\\\\retro\\\\VLP-16 P25544 2022-12-01 13-51-28 Factory Summary.csv', 'C:\\\\temp4\\\\five\\\\retro\\\\VLP-16 P25544 2022-12-05 17-05-56 Factory Summary.csv']\n"
     ]
    }
   ],
   "source": [
    " nist80_sum_files=[]\n",
    "for path in dir80:\n",
    "    nist80_sum_files.append(find('*Factory Summary*', path))\n",
    "    \n",
    "print (nist80_sum_files)\n"
   ]
  },
  {
   "cell_type": "code",
   "execution_count": 30,
   "id": "f3e897bb",
   "metadata": {
    "scrolled": true
   },
   "outputs": [],
   "source": [
    "import pandas as pd\n",
    "\n",
    "comment=''\n",
    "Nrow=16 #16ch\n",
    "\n",
    "#test name & starting row\n",
    "header={'First_row':74}            # '05': 76,    '80':74   '8005':72    'retro':74\n",
    "col_num=60\n",
    "col_list=[i for i in range (0,col_num)]\n",
    "num_test=len(header)\n",
    "name=list(header.keys())\n",
    "appended_data=[]\n",
    "\n",
    "\n",
    "for filename in nist80_sum_files:\n",
    "    \n",
    "    for test, row in header.items():  \n",
    "          \n",
    "        nfa=pd.read_csv(filename, header=row, usecols=col_list, nrows=Nrow)  #header start from 0 & excel row start 1\n",
    "        nfa[\"Filename\"]=filename              #new column\n",
    "        nfa[\"comment\"]=comment                #new column    \n",
    "        appended_data.append(nfa)\n",
    " \n"
   ]
  },
  {
   "cell_type": "code",
   "execution_count": 31,
   "id": "013b5809",
   "metadata": {},
   "outputs": [],
   "source": [
    "folder_path = 'C:\\Temp4'\n",
    "\n",
    "all_data= pd.concat(appended_data)   #list of dataframes to concatenated dafaframe\n",
    "all_data.to_csv(folder_path+ '\\\\C++       result.csv')\n"
   ]
  },
  {
   "cell_type": "code",
   "execution_count": null,
   "id": "28a9cd6f",
   "metadata": {},
   "outputs": [],
   "source": []
  }
 ],
 "metadata": {
  "kernelspec": {
   "display_name": "Python 3 (ipykernel)",
   "language": "python",
   "name": "python3"
  },
  "language_info": {
   "codemirror_mode": {
    "name": "ipython",
    "version": 3
   },
   "file_extension": ".py",
   "mimetype": "text/x-python",
   "name": "python",
   "nbconvert_exporter": "python",
   "pygments_lexer": "ipython3",
   "version": "3.9.12"
  }
 },
 "nbformat": 4,
 "nbformat_minor": 5
}
