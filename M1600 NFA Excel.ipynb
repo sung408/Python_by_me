{
 "cells": [
  {
   "cell_type": "code",
   "execution_count": 4,
   "id": "4aefb45c",
   "metadata": {},
   "outputs": [
    {
     "name": "stdout",
     "output_type": "stream",
     "text": [
      "C:\\temp2\\pre\\B5724_EOL_NFA_RESULTS_20220728.xlsx\n",
      "C:\\temp2\\pre\\B5725_EOL_NFA_RESULTS_20220728.xlsx\n",
      "C:\\temp2\\pre\\B5727_EOL_NFA_RESULTS_20220728.xlsx\n",
      "C:\\temp2\\pre\\B5729_EOL_NFA_RESULTS_20220729.xlsx\n",
      "C:\\temp2\\pre\\B5735_EOL_NFA_RESULTS_20220707.xlsx\n",
      "C:\\temp2\\pre\\B5921_EOL_NFA_RESULTS_20220729.xlsx\n"
     ]
    }
   ],
   "source": [
    "import os\n",
    "import glob\n",
    "import openpyxl\n",
    "import pandas as pd\n",
    "\n",
    "folder_path = 'C:\\\\temp2\\\\pre\\\\'\n",
    "for filename in glob.glob(os.path.join(folder_path, '*.xlsx')):\n",
    "    print(filename)"
   ]
  },
  {
   "cell_type": "code",
   "execution_count": 5,
   "id": "17952daa",
   "metadata": {},
   "outputs": [],
   "source": [
    "comment='pre'\n",
    "\n",
    "#test name & starting row\n",
    "header={'80AZM60':94, '80AZM30':112,'80AZM90':130,'80AZM00':148,'80AZM120':166,'05AZM60':184, 'Referee60':202,'Retro60':220}\n",
    "\n",
    "num_test=len(header)\n",
    "name=list(header.keys())\n",
    "appended_data=[ [] for _ in range(num_test) ]\n",
    "\n",
    "\n",
    "for filename in glob.glob(os.path.join(folder_path, '*.xlsx')):\n",
    "    data_index=0\n",
    "    \n",
    "    for test, row in header.items():  \n",
    "        nfa=pd.read_excel(filename,'data', header=row, usecols='A:U', nrows=16)  #header start from 0 & excel row start 1\n",
    "        nfa[\"Filename\"]=filename              #new column\n",
    "        nfa[\"comment\"]=comment                #new column    \n",
    "        appended_data[data_index].append(nfa)\n",
    "        data_index+=1\n",
    "           \n",
    "for data_index in range(num_test):\n",
    "    appended_data[data_index]= pd.concat(appended_data[data_index])   #list of dataframes to concatenated dafaframe\n",
    "    appended_data[data_index].to_csv(folder_path+ name[data_index] +'.csv')\n",
    "\n"
   ]
  },
  {
   "cell_type": "code",
   "execution_count": null,
   "id": "d97a0886",
   "metadata": {},
   "outputs": [],
   "source": []
  },
  {
   "cell_type": "code",
   "execution_count": null,
   "id": "b2bad09d",
   "metadata": {},
   "outputs": [],
   "source": []
  }
 ],
 "metadata": {
  "kernelspec": {
   "display_name": "Python 3 (ipykernel)",
   "language": "python",
   "name": "python3"
  },
  "language_info": {
   "codemirror_mode": {
    "name": "ipython",
    "version": 3
   },
   "file_extension": ".py",
   "mimetype": "text/x-python",
   "name": "python",
   "nbconvert_exporter": "python",
   "pygments_lexer": "ipython3",
   "version": "3.9.12"
  }
 },
 "nbformat": 4,
 "nbformat_minor": 5
}
