{
 "cells": [
  {
   "cell_type": "code",
   "execution_count": 1,
   "id": "4aefb45c",
   "metadata": {},
   "outputs": [
    {
     "name": "stdout",
     "output_type": "stream",
     "text": [
      "C:\\temp\\10_C32_BL007_600rpm_APDT_51.929_LDT_51.562_BOTT_45.877.csv\n",
      "C:\\temp\\C32_BL016_599rpm_APDT_54.309_LDT_53.760_BOTT_52.398.csv\n"
     ]
    }
   ],
   "source": [
    "import os\n",
    "import glob\n",
    "import openpyxl\n",
    "import pandas as pd\n",
    "\n",
    "folder_path = 'C:\\\\temp\\\\'\n",
    "for filename in glob.glob(os.path.join(folder_path, '*.csv')):\n",
    "    print(filename)"
   ]
  },
  {
   "cell_type": "code",
   "execution_count": 3,
   "id": "17952daa",
   "metadata": {},
   "outputs": [],
   "source": [
    "comment='C32 Incoming'\n",
    "\n",
    "#test name & starting row\n",
    "header={'80AZM180':3, '05AZM270':38, 'Referee225':73,'Retro90':108}\n",
    "ch_num=32\n",
    "ch_list=[i for i in range (0,ch_num)]\n",
    "num_test=len(header)\n",
    "name=list(header.keys())\n",
    "appended_data=[ [] for _ in range(num_test) ]\n",
    "\n",
    "\n",
    "for filename in glob.glob(os.path.join(folder_path, '*.csv')):\n",
    "    data_index=0\n",
    "    \n",
    "    for test, row in header.items():  \n",
    "        nfa=pd.read_csv(filename, header=row, usecols=ch_list, nrows=32)  #header start from 0 & excel row start 1\n",
    "        nfa[\"Filename\"]=filename              #new column\n",
    "        nfa[\"comment\"]=comment                #new column    \n",
    "        appended_data[data_index].append(nfa)\n",
    "        data_index+=1\n",
    "           \n",
    "for data_index in range(num_test):\n",
    "    appended_data[data_index]= pd.concat(appended_data[data_index])   #list of dataframes to concatenated dafaframe\n",
    "    appended_data[data_index].to_csv(folder_path+ name[data_index] +'.csv')\n",
    "\n"
   ]
  },
  {
   "cell_type": "code",
   "execution_count": 6,
   "id": "d97a0886",
   "metadata": {},
   "outputs": [
    {
     "name": "stdout",
     "output_type": "stream",
     "text": [
      "[0, 1, 2, 3, 4, 5, 6, 7, 8, 9, 10, 11, 12, 13, 14, 15, 16, 17, 18, 19, 20, 21, 22, 23, 24, 25, 26, 27, 28, 29, 30, 31]\n"
     ]
    }
   ],
   "source": [
    "ch_num=32\n",
    "ch_list=[i for i in range (0,ch_num)]\n",
    "print (ch_list)"
   ]
  },
  {
   "cell_type": "code",
   "execution_count": null,
   "id": "b2bad09d",
   "metadata": {},
   "outputs": [],
   "source": []
  }
 ],
 "metadata": {
  "kernelspec": {
   "display_name": "Python 3 (ipykernel)",
   "language": "python",
   "name": "python3"
  },
  "language_info": {
   "codemirror_mode": {
    "name": "ipython",
    "version": 3
   },
   "file_extension": ".py",
   "mimetype": "text/x-python",
   "name": "python",
   "nbconvert_exporter": "python",
   "pygments_lexer": "ipython3",
   "version": "3.9.12"
  }
 },
 "nbformat": 4,
 "nbformat_minor": 5
}
